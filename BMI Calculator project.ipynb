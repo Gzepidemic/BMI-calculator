{
 "cells": [
  {
   "cell_type": "markdown",
   "id": "ff6693c6",
   "metadata": {},
   "source": [
    "# BMI Calculator"
   ]
  },
  {
   "cell_type": "markdown",
   "id": "05250b96",
   "metadata": {},
   "source": []
  },
  {
   "cell_type": "markdown",
   "id": "b5212ae0",
   "metadata": {},
   "source": [
    "## Calculating your BMI\n"
   ]
  },
  {
   "cell_type": "markdown",
   "id": "6207755e",
   "metadata": {},
   "source": [
    "The BMI calculation divides an adult's weight in kilograms (kg) by their height in metres (m) squared. \n",
    "For example, an adult who weighs 70 kg (around 11 stone) and whose height is 1.75 m will have a BMI of 22.9."
   ]
  },
  {
   "cell_type": "code",
   "execution_count": null,
   "id": "19a86ba4",
   "metadata": {},
   "outputs": [],
   "source": []
  },
  {
   "cell_type": "code",
   "execution_count": null,
   "id": "5c0e5e0a",
   "metadata": {},
   "outputs": [],
   "source": [
    "BMI\tClassification\tHealth Risk\n",
    "Under 18.5\tUnderweight\tMinimal\n",
    "18.5 - 24.9\tNormal Weight\tMinimal\n",
    "25 - 29.9\tOverweight\tIncreased\n",
    "30 - 34.9\tObese\tHigh\n",
    "35 - 39.9\tSeverely Obese\tVery High\n",
    "40 and over\tMorbidly Obese\tExtremely High"
   ]
  },
  {
   "cell_type": "code",
   "execution_count": null,
   "id": "fe9eb731",
   "metadata": {},
   "outputs": [],
   "source": []
  },
  {
   "cell_type": "markdown",
   "id": "93e48d9b",
   "metadata": {},
   "source": [
    "The user will be asked to enter his/her name, weight in kilograms and height in meters (divided by \".\", e.g. 1.80)"
   ]
  },
  {
   "cell_type": "code",
   "execution_count": 2,
   "id": "093369b6",
   "metadata": {},
   "outputs": [
    {
     "name": "stdout",
     "output_type": "stream",
     "text": [
      "Enter your name: Gio\n",
      "Enter your weight in kilograms: 70\n",
      "Enter your height in meters: 1.76\n",
      "22.59814049586777\n",
      "Gio, you are normal weight.\n"
     ]
    }
   ],
   "source": [
    "name = input(\"Enter your name: \")\n",
    "\n",
    "weight = float(input(\"Enter your weight in kilograms: \"))\n",
    "\n",
    "height = float(input(\"Enter your height in meters: \"))\n",
    "\n",
    "BMI = (weight / height ** 2)\n",
    "       \n",
    "print(BMI)\n",
    "\n",
    "\n",
    "if BMI > 0:\n",
    "    if (BMI < 18.5):\n",
    "        print(name +\", you are underweight.\")\n",
    "    elif (BMI <= 24.9):\n",
    "        print(name +\", you are normal weight.\")\n",
    "    elif (BMI < 29.9):\n",
    "        print(name +\", you are overweight.\")\n",
    "    elif (BMI < 34.9):\n",
    "        print(name +\", you are obese.\")\n",
    "    elif (BMI < 39.9):\n",
    "        print(name +\", you are severely obese.\")\n",
    "    \n",
    "    else:\n",
    "        print(name +\", you are morbidly obese.\")\n",
    "else:\n",
    "    print(\"Enter valid input.\")"
   ]
  },
  {
   "cell_type": "code",
   "execution_count": null,
   "id": "b55e1f66",
   "metadata": {},
   "outputs": [],
   "source": []
  }
 ],
 "metadata": {
  "kernelspec": {
   "display_name": "Python 3 (ipykernel)",
   "language": "python",
   "name": "python3"
  },
  "language_info": {
   "codemirror_mode": {
    "name": "ipython",
    "version": 3
   },
   "file_extension": ".py",
   "mimetype": "text/x-python",
   "name": "python",
   "nbconvert_exporter": "python",
   "pygments_lexer": "ipython3",
   "version": "3.9.13"
  }
 },
 "nbformat": 4,
 "nbformat_minor": 5
}
